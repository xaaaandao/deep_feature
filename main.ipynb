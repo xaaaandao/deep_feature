{
 "nbformat": 4,
 "nbformat_minor": 0,
 "metadata": {
  "colab": {
   "name": "Untitled1.ipynb",
   "provenance": [],
   "authorship_tag": "ABX9TyNHXoHTMqLiKUtOJ/Ew67vf",
   "include_colab_link": true
  },
  "kernelspec": {
   "name": "python3",
   "display_name": "Python 3"
  },
  "language_info": {
   "name": "python"
  }
 },
 "cells": [
  {
   "cell_type": "code",
   "execution_count": null,
   "outputs": [],
   "source": [
    "import keras.applications.vgg16\n",
    "import keras.applications.resnet_v2\n",
    "import keras.applications.mobilenet_v2\n",
    "import tensorflow.keras.preprocessing.image\n",
    "import keras.backend\n",
    "\n",
    "import csv\n",
    "import datetime\n",
    "import ipynbname\n",
    "import math\n",
    "import matplotlib.pyplot\n",
    "import numpy\n",
    "import os\n",
    "import pandas\n",
    "import pathlib"
   ],
   "metadata": {
    "collapsed": false,
    "pycharm": {
     "name": "#%%\n"
    }
   }
  },
  {
   "cell_type": "code",
   "execution_count": null,
   "outputs": [],
   "source": [
    "cfg={\n",
    "    \"list_of_labels\": list([\"manekia\", \"ottonia\", \"peperomia\", \"piper\", \"pothomorphe\"]),\n",
    "    \"list_of_models\": list([\"vgg16\", \"resnet50v2\", \"mobilenetv2\"]),\n",
    "    \"orientation\": list([\"horizontal\"]),\n",
    "    \"patches\": list([3]),\n",
    "    \"height\": 256,\n",
    "    \"width\": 256,\n",
    "    \"channel\": -1,\n",
    "}\n",
    "list_imgs_sliced = list([])\n",
    "path_dataset = os.path.join(\"dataset\", \"dataset_iwssip\")"
   ],
   "metadata": {
    "collapsed": false,
    "pycharm": {
     "name": "#%%\n"
    }
   }
  },
  {
   "cell_type": "code",
   "execution_count": null,
   "outputs": [],
   "source": [
    "def get_model(model, **kwargs):\n",
    "    if model == \"vgg16\":\n",
    "        return keras.applications.vgg16.VGG16(**kwargs), keras.applications.vgg16.preprocess_input\n",
    "    if model == \"resnet50v2\":\n",
    "        return keras.applications.resnet_v2.ResNet50V2(**kwargs), keras.applications.resnet_v2.preprocess_input\n",
    "    if model == \"mobilenetv2\":\n",
    "        return keras.applications.mobilenet_v2.MobileNetV2(**kwargs), keras.applications.mobilenet_v2.preprocess_input\n",
    "\n",
    "    raise ValueError\n",
    "\n",
    "\n",
    "def get_label(filename, labels):\n",
    "    print(filename, labels)\n",
    "    for l in labels:\n",
    "        if l in filename:\n",
    "            return labels.index(l)\n",
    "    # return next((labels.index(l) for l in labels if l in filename))\n",
    "\n",
    "\n",
    "def save(features, labels, model_name, n_patches, orientation, path):\n",
    "    path_out = os.path.join(path, model_name)\n",
    "    pathlib.Path(path_out).mkdir(parents=True, exist_ok=True)\n",
    "    output_filename = os.path.join(path_out, f\"{orientation}+patch={n_patches}+{model_name}\")\n",
    "    numpy.savez_compressed(output_filename, features=features, labels=labels)\n",
    "    print(output_filename, features.shape, labels.shape)\n",
    "\n",
    "\n",
    "def get_input_shape(cfg, n_patches, orientation):\n",
    "    if orientation == \"vertical\":\n",
    "        return (cfg[\"height\"], math.floor(cfg[\"width\"] / n_patches), 3)\n",
    "    if orientation == \"horizontal\":\n",
    "        return (math.floor(cfg[\"height\"] / n_patches), cfg[\"width\"], 3)\n",
    "    if orientation == \"h+v\":\n",
    "        return (math.floor(cfg[\"height\"] / n_patches), math.floor(cfg[\"width\"] / n_patches), 3)\n",
    "    return (cfg[\"height\"], cfg[\"width\"], 3)\n",
    "\n",
    "\n",
    "def next_patch(orientation, spec, n):\n",
    "    if orientation == \"vertical\":\n",
    "        step = math.floor(spec.shape[1] / n)\n",
    "        for i in range(n):\n",
    "            yield spec[:, i * step:(i + 1) * step, :]\n",
    "    elif orientation == \"horizontal\":\n",
    "        step = math.floor(spec.shape[0] / n)\n",
    "        for i in range(n):\n",
    "            yield spec[i * step:(i + 1) * step, :, :]"
   ],
   "metadata": {
    "collapsed": false,
    "pycharm": {
     "name": "#%%\n"
    }
   }
  },
  {
   "cell_type": "code",
   "execution_count": null,
   "outputs": [],
   "source": [
    "current_datetime = datetime.datetime.now().strftime(\"%d-%m-%Y-%H-%M-%S\")\n",
    "path = os.path.join(\"out\", current_datetime)\n",
    "pathlib.Path(path).mkdir(parents=True, exist_ok=True)\n",
    "\n",
    "for orientation in cfg[\"orientation\"]:\n",
    "    if not orientation in (\"horizontal\", \"vertical\", \"h+v\"):\n",
    "        raise ValueError(\"orientation not found\")\n",
    "    for model_name in cfg[\"list_of_models\"]:\n",
    "        for n_patches in cfg[\"patches\"]:\n",
    "            if n_patches < 1:\n",
    "                raise ValueError(\"n_patches should be greater than one\")\n",
    "\n",
    "            keras.backend.clear_session()\n",
    "\n",
    "            input_shape = get_input_shape(cfg, n_patches, orientation)\n",
    "\n",
    "            model, preprocess_input = get_model(model_name, weights=\"imagenet\", include_top=False,\n",
    "                                                input_shape=input_shape, pooling=\"avg\")\n",
    "\n",
    "            features = []\n",
    "            labels = []\n",
    "            for filename in sorted(pathlib.Path(path_dataset).rglob(\"*\")):\n",
    "                print(filename)\n",
    "                l = get_label(str(filename.stem), cfg[\"list_of_labels\"])\n",
    "                print(filename.resolve(), cfg[\"list_of_labels\"][l], model_name, n_patches)\n",
    "                img = tensorflow.keras.preprocessing.image.load_img(str(filename.resolve()))\n",
    "                if len(img.size) == 2:\n",
    "                    cfg[\"channel\"] = 1\n",
    "                else:\n",
    "                    cfg[\"channel\"] = 3\n",
    "                spec = tensorflow.keras.preprocessing.image.img_to_array(img)\n",
    "                img_sliced = list([])\n",
    "                if orientation == \"h+v\":\n",
    "                    for p in next_patch(\"horizontal\", spec, n_patches):\n",
    "                        for q in next_patch(\"vertical\", p, n_patches):\n",
    "                            q = preprocess_input(q)\n",
    "                            img_sliced.append(tensorflow.keras.preprocessing.image.array_to_img(q))\n",
    "                            q = numpy.expand_dims(q, axis=0)\n",
    "                            features.append(model.predict(q))\n",
    "                            labels.append(l + 1)\n",
    "                else:\n",
    "                    for p in next_patch(orientation, spec, n_patches):\n",
    "                        p = preprocess_input(p)\n",
    "                        img_sliced.append(tensorflow.keras.preprocessing.image.array_to_img(p))\n",
    "                        p = numpy.expand_dims(p, axis=0)\n",
    "                        features.append(model.predict(p))\n",
    "                        labels.append(l + 1)\n",
    "                list_imgs_sliced.append({\"img\": img_sliced, \"orientation\": orientation, \"patches\": n_patches, \"filename\": str(filename.stem)})\n",
    "\n",
    "            features = numpy.concatenate(features)\n",
    "            labels = numpy.array(labels)\n",
    "            save(features, labels, model_name, n_patches, orientation, path)"
   ],
   "metadata": {
    "collapsed": false,
    "pycharm": {
     "name": "#%%\n"
    }
   }
  },
  {
   "cell_type": "code",
   "execution_count": null,
   "outputs": [],
   "source": [
    "columns = [\"list_of_labels\", \"list_of_models\", \"orientation\", \"patches\", \"height\", \"width\", \"channel\", \"path_dataset\", \"tam_dataset\", \"filename\"]\n",
    "data = [str(cfg[\"list_of_labels\"]), str(cfg[\"list_of_models\"]), str(cfg[\"orientation\"]), str(cfg[\"patches\"]), cfg[\"height\"], cfg[\"width\"], cfg[\"channel\"], path_dataset, len(list(pathlib.Path(path_dataset).rglob(\"*\"))), ipynbname.path()]\n",
    "\n",
    "print(data, columns)\n",
    "dataframe_cfg = pandas.DataFrame(data, columns)\n",
    "dataframe_cfg = dataframe_cfg.applymap(lambda x: str(x).replace(\".\", \",\") if isinstance(x,float) else x)\n",
    "dataframe_cfg.to_csv(os.path.join(path, \"cfg.csv\"), decimal=\",\", sep=\";\", na_rep=\" \", header=False, quoting=csv.QUOTE_ALL)\n",
    "dataframe_cfg"
   ],
   "metadata": {
    "collapsed": false,
    "pycharm": {
     "name": "#%%\n"
    }
   }
  },
  {
   "cell_type": "code",
   "execution_count": null,
   "outputs": [],
   "source": [
    "x = numpy.load(\"out/mobilenetv2/vertical+patch=3+mobilenetv2.npz\")\n",
    "numpy.unique(x[\"labels\"])"
   ],
   "metadata": {
    "collapsed": false,
    "pycharm": {
     "name": "#%%\n"
    }
   }
  },
  {
   "cell_type": "code",
   "execution_count": null,
   "outputs": [],
   "source": [
    "x[\"features\"].shape"
   ],
   "metadata": {
    "collapsed": false,
    "pycharm": {
     "name": "#%%\n"
    }
   }
  },
  {
   "cell_type": "code",
   "execution_count": null,
   "outputs": [],
   "source": [
    "len(list_imgs_sliced)"
   ],
   "metadata": {
    "collapsed": false,
    "pycharm": {
     "name": "#%%\n"
    }
   }
  },
  {
   "cell_type": "code",
   "execution_count": null,
   "outputs": [],
   "source": [
    "import matplotlib.pyplot\n",
    "\n",
    "def get_fig(n_patches, orientation):\n",
    "    if orientation == \"horizontal\":\n",
    "        return matplotlib.pyplot.subplots(nrows=n_patches)\n",
    "    if orientation == \"vertical\":\n",
    "        return matplotlib.pyplot.subplots(ncols=n_patches)\n",
    "    return matplotlib.pyplot.subplots(nrows=n_patches, ncols=n_patches)\n",
    "\n",
    "pathlib.Path(\"imgs_sliced\").mkdir(exist_ok=True, parents=True)\n",
    "for img_sliced in list_imgs_sliced[len(list_imgs_sliced)-1:]:\n",
    "    filename = f\"{img_sliced['filename']}+{img_sliced['orientation']}+patch={img_sliced['patches']}.png\"\n",
    "    if not os.path.exists(os.path.join(\"imgs_sliced\", filename)):\n",
    "        figure, axis = get_fig(img_sliced[\"patches\"], img_sliced[\"orientation\"])\n",
    "        if img_sliced[\"orientation\"] == \"h+v\":\n",
    "            for i in range(0, img_sliced[\"patches\"]):\n",
    "                for j, img in enumerate(img_sliced[\"img\"]):\n",
    "                    axis[i][j].imshow(img)\n",
    "                    axis[i][j].axis(\"off\")\n",
    "        else:\n",
    "            for i, img in enumerate(img_sliced[\"img\"]):\n",
    "                axis[i].imshow(img)\n",
    "                axis[i].axis(\"off\")\n",
    "        # matplotlib.pyplot.show()\n",
    "        figure.savefig(os.path.join(\"imgs_sliced\", filename))"
   ],
   "metadata": {
    "collapsed": false,
    "pycharm": {
     "name": "#%%\n"
    }
   }
  }
 ]
}