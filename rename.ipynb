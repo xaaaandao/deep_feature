{
 "cells": [
  {
   "cell_type": "code",
   "execution_count": 1,
   "metadata": {
    "collapsed": true
   },
   "outputs": [],
   "source": [
    "import math\n",
    "import shutil\n",
    "import numpy as np\n",
    "import os\n",
    "import pandas as pd\n",
    "import pathlib"
   ]
  },
  {
   "cell_type": "code",
   "execution_count": 8,
   "outputs": [
    {
     "data": {
      "text/plain": "375"
     },
     "execution_count": 8,
     "metadata": {},
     "output_type": "execute_result"
    }
   ],
   "source": [
    "base_path = '/home/xandao/Documentos/GitHub/dataset_gimp/imagens_sp/imagens/grayscale/segmented_unet/512/'\n",
    "src = f'{base_path}w_pred_mask'\n",
    "list_files = [file for file in pathlib.Path(src).glob(\"*\") if file.is_file()]\n",
    "# file_labels = '/home/xandao/Documentos/GitHub/dataset_gimp/imagens_george/genus-and-specific_epithet-by-image.csv'\n",
    "file_labels = '/home/xandao/Documentos/GitHub/dataset_gimp/imagens_sp/genus-by-image.csv'\n",
    "\n",
    "len(list_files)"
   ],
   "metadata": {
    "collapsed": false
   }
  },
  {
   "cell_type": "code",
   "execution_count": 9,
   "outputs": [
    {
     "data": {
      "text/plain": "(5, ['Manekia', 'Ottonia', 'Peperomia', 'Piper', 'Pothomorphe'])"
     },
     "execution_count": 9,
     "metadata": {},
     "output_type": "execute_result"
    }
   ],
   "source": [
    "data_labels = pd.read_csv(file_labels, sep=',')\n",
    "\n",
    "list_labels = np.unique(data_labels['genus']).tolist()\n",
    "# imagens_sp\n",
    "# list_labels = data_labels['specific_epithet'].tolist()\n",
    "# list_labels = np.unique(list_labels).tolist()\n",
    "list_labels = list(filter(lambda x: x != 'nan', list_labels))\n",
    "len(list_labels), list_labels"
   ],
   "metadata": {
    "collapsed": false
   }
  },
  {
   "cell_type": "code",
   "execution_count": 10,
   "outputs": [],
   "source": [
    "def copy_dir(src, dst):\n",
    "    for file in os.listdir(src):\n",
    "        shutil.copy(os.path.join(src, file), os.path.join(dst, file))\n",
    "\n",
    "for _, row in data_labels.iterrows():\n",
    "    file = list(filter(lambda x: row['filename'].replace('.png','') in str(x), list_files))\n",
    "    # file = list(filter(lambda x: row['barcode'] in str(x), list_files))\n",
    "\n",
    "    if isinstance(row['genus'], str) and len(row['genus']) > 0:\n",
    "        p = list_labels.index(str(row['genus'])) + 1\n",
    "        # path = os.path.join(base_path, 'deep_feature', 'genus', 'todos', f'f{p}')\n",
    "        path = os.path.join(base_path, 'deep_feature', f'f{p}')\n",
    "        pathlib.Path(path).mkdir(exist_ok=True, parents=True)\n",
    "\n",
    "        if len(file) > 0:\n",
    "            shutil.copy(str(file[0]), path)"
   ],
   "metadata": {
    "collapsed": false
   }
  }
 ],
 "metadata": {
  "kernelspec": {
   "display_name": "Python 3",
   "language": "python",
   "name": "python3"
  },
  "language_info": {
   "codemirror_mode": {
    "name": "ipython",
    "version": 2
   },
   "file_extension": ".py",
   "mimetype": "text/x-python",
   "name": "python",
   "nbconvert_exporter": "python",
   "pygments_lexer": "ipython2",
   "version": "2.7.6"
  }
 },
 "nbformat": 4,
 "nbformat_minor": 0
}
